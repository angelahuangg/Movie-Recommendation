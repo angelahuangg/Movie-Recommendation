{
 "nbformat": 4,
 "nbformat_minor": 0,
 "metadata": {
  "colab": {
   "provenance": []
  },
  "kernelspec": {
   "name": "python3",
   "language": "python",
   "display_name": "Python 3 (ipykernel)"
  },
  "language_info": {
   "name": "python"
  }
 },
 "cells": [
  {
   "cell_type": "code",
   "execution_count": 8,
   "metadata": {
    "id": "oi34-2FAAcZE",
    "ExecuteTime": {
     "end_time": "2024-04-18T02:47:39.399658Z",
     "start_time": "2024-04-18T02:47:39.343097Z"
    }
   },
   "outputs": [],
   "source": [
    "import pandas as pd\n",
    "movies = pd.read_csv(\"data/movies.csv\")\n",
    "links = pd.read_csv(\"data/links.csv\")\n",
    "ratings = pd.read_csv(\"data/ratings.csv\")\n",
    "tags = pd.read_csv(\"data/tags.csv\")"
   ]
  },
  {
   "cell_type": "code",
   "execution_count": 6,
   "outputs": [
    {
     "data": {
      "text/plain": "   movieId                               title  \\\n0        1                    Toy Story (1995)   \n1        2                      Jumanji (1995)   \n2        3             Grumpier Old Men (1995)   \n3        4            Waiting to Exhale (1995)   \n4        5  Father of the Bride Part II (1995)   \n\n                                        genres  \n0  Adventure|Animation|Children|Comedy|Fantasy  \n1                   Adventure|Children|Fantasy  \n2                               Comedy|Romance  \n3                         Comedy|Drama|Romance  \n4                                       Comedy  ",
      "text/html": "<div>\n<style scoped>\n    .dataframe tbody tr th:only-of-type {\n        vertical-align: middle;\n    }\n\n    .dataframe tbody tr th {\n        vertical-align: top;\n    }\n\n    .dataframe thead th {\n        text-align: right;\n    }\n</style>\n<table border=\"1\" class=\"dataframe\">\n  <thead>\n    <tr style=\"text-align: right;\">\n      <th></th>\n      <th>movieId</th>\n      <th>title</th>\n      <th>genres</th>\n    </tr>\n  </thead>\n  <tbody>\n    <tr>\n      <th>0</th>\n      <td>1</td>\n      <td>Toy Story (1995)</td>\n      <td>Adventure|Animation|Children|Comedy|Fantasy</td>\n    </tr>\n    <tr>\n      <th>1</th>\n      <td>2</td>\n      <td>Jumanji (1995)</td>\n      <td>Adventure|Children|Fantasy</td>\n    </tr>\n    <tr>\n      <th>2</th>\n      <td>3</td>\n      <td>Grumpier Old Men (1995)</td>\n      <td>Comedy|Romance</td>\n    </tr>\n    <tr>\n      <th>3</th>\n      <td>4</td>\n      <td>Waiting to Exhale (1995)</td>\n      <td>Comedy|Drama|Romance</td>\n    </tr>\n    <tr>\n      <th>4</th>\n      <td>5</td>\n      <td>Father of the Bride Part II (1995)</td>\n      <td>Comedy</td>\n    </tr>\n  </tbody>\n</table>\n</div>"
     },
     "execution_count": 6,
     "metadata": {},
     "output_type": "execute_result"
    }
   ],
   "source": [
    "movies.head()"
   ],
   "metadata": {
    "collapsed": false,
    "ExecuteTime": {
     "end_time": "2024-04-18T02:46:42.334090Z",
     "start_time": "2024-04-18T02:46:42.328513Z"
    }
   }
  },
  {
   "cell_type": "code",
   "execution_count": 35,
   "outputs": [
    {
     "data": {
      "text/plain": "         userId  rating                          title  \\\nmovieId                                                  \n1             1     4.0               Toy Story (1995)   \n3             1     4.0        Grumpier Old Men (1995)   \n47            1     5.0    Seven (a.k.a. Se7en) (1995)   \n50            1     5.0     Usual Suspects, The (1995)   \n101           1     5.0           Bottle Rocket (1996)   \n...         ...     ...                            ...   \n158872      610     3.5           Sausage Party (2016)   \n161634      610     4.0           Don't Breathe (2016)   \n164179      610     5.0                 Arrival (2016)   \n168248      610     5.0  John Wick: Chapter Two (2017)   \n168252      610     5.0                   Logan (2017)   \n\n                                              genres   imdbId  \nmovieId                                                        \n1        Adventure|Animation|Children|Comedy|Fantasy   114709  \n3                                     Comedy|Romance   113228  \n47                                  Mystery|Thriller   114369  \n50                            Crime|Mystery|Thriller   114814  \n101                   Adventure|Comedy|Crime|Romance   115734  \n...                                              ...      ...  \n158872                              Animation|Comedy  1700841  \n161634                                      Thriller  4160708  \n164179                                        Sci-Fi  2543164  \n168248                         Action|Crime|Thriller  4425200  \n168252                                 Action|Sci-Fi  3315342  \n\n[48287 rows x 5 columns]",
      "text/html": "<div>\n<style scoped>\n    .dataframe tbody tr th:only-of-type {\n        vertical-align: middle;\n    }\n\n    .dataframe tbody tr th {\n        vertical-align: top;\n    }\n\n    .dataframe thead th {\n        text-align: right;\n    }\n</style>\n<table border=\"1\" class=\"dataframe\">\n  <thead>\n    <tr style=\"text-align: right;\">\n      <th></th>\n      <th>userId</th>\n      <th>rating</th>\n      <th>title</th>\n      <th>genres</th>\n      <th>imdbId</th>\n    </tr>\n    <tr>\n      <th>movieId</th>\n      <th></th>\n      <th></th>\n      <th></th>\n      <th></th>\n      <th></th>\n    </tr>\n  </thead>\n  <tbody>\n    <tr>\n      <th>1</th>\n      <td>1</td>\n      <td>4.0</td>\n      <td>Toy Story (1995)</td>\n      <td>Adventure|Animation|Children|Comedy|Fantasy</td>\n      <td>114709</td>\n    </tr>\n    <tr>\n      <th>3</th>\n      <td>1</td>\n      <td>4.0</td>\n      <td>Grumpier Old Men (1995)</td>\n      <td>Comedy|Romance</td>\n      <td>113228</td>\n    </tr>\n    <tr>\n      <th>47</th>\n      <td>1</td>\n      <td>5.0</td>\n      <td>Seven (a.k.a. Se7en) (1995)</td>\n      <td>Mystery|Thriller</td>\n      <td>114369</td>\n    </tr>\n    <tr>\n      <th>50</th>\n      <td>1</td>\n      <td>5.0</td>\n      <td>Usual Suspects, The (1995)</td>\n      <td>Crime|Mystery|Thriller</td>\n      <td>114814</td>\n    </tr>\n    <tr>\n      <th>101</th>\n      <td>1</td>\n      <td>5.0</td>\n      <td>Bottle Rocket (1996)</td>\n      <td>Adventure|Comedy|Crime|Romance</td>\n      <td>115734</td>\n    </tr>\n    <tr>\n      <th>...</th>\n      <td>...</td>\n      <td>...</td>\n      <td>...</td>\n      <td>...</td>\n      <td>...</td>\n    </tr>\n    <tr>\n      <th>158872</th>\n      <td>610</td>\n      <td>3.5</td>\n      <td>Sausage Party (2016)</td>\n      <td>Animation|Comedy</td>\n      <td>1700841</td>\n    </tr>\n    <tr>\n      <th>161634</th>\n      <td>610</td>\n      <td>4.0</td>\n      <td>Don't Breathe (2016)</td>\n      <td>Thriller</td>\n      <td>4160708</td>\n    </tr>\n    <tr>\n      <th>164179</th>\n      <td>610</td>\n      <td>5.0</td>\n      <td>Arrival (2016)</td>\n      <td>Sci-Fi</td>\n      <td>2543164</td>\n    </tr>\n    <tr>\n      <th>168248</th>\n      <td>610</td>\n      <td>5.0</td>\n      <td>John Wick: Chapter Two (2017)</td>\n      <td>Action|Crime|Thriller</td>\n      <td>4425200</td>\n    </tr>\n    <tr>\n      <th>168252</th>\n      <td>610</td>\n      <td>5.0</td>\n      <td>Logan (2017)</td>\n      <td>Action|Sci-Fi</td>\n      <td>3315342</td>\n    </tr>\n  </tbody>\n</table>\n<p>48287 rows × 5 columns</p>\n</div>"
     },
     "execution_count": 35,
     "metadata": {},
     "output_type": "execute_result"
    }
   ],
   "source": [
    "# create dataframe with movieId as index\n",
    "df = ratings.copy()\n",
    "df = ratings.set_index(\"movieId\")\n",
    "\n",
    "# merge all data together\n",
    "df = df.merge(movies, left_on=\"movieId\", right_on=\"movieId\")\n",
    "df = df.merge(tags, left_on=\"movieId\", right_on=\"movieId\")\n",
    "df = df.merge(links, left_on=\"movieId\", right_on=\"movieId\")\n",
    "df.drop(columns=['timestamp_x', 'timestamp_y', 'tag', 'userId_y', 'tmdbId'], inplace=True)\n",
    "df.rename(columns={\"userId_x\": \"userId\"}, inplace=True)\n",
    "df.drop_duplicates(inplace=True)\n",
    "df = df.set_index(\"movieId\")\n",
    "\n",
    "df"
   ],
   "metadata": {
    "collapsed": false,
    "ExecuteTime": {
     "end_time": "2024-04-18T03:33:49.742853Z",
     "start_time": "2024-04-18T03:33:49.605480Z"
    }
   }
  },
  {
   "cell_type": "code",
   "execution_count": null,
   "outputs": [],
   "source": [],
   "metadata": {
    "collapsed": false
   }
  }
 ]
}
